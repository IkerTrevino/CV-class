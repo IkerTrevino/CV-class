{
 "cells": [
  {
   "cell_type": "markdown",
   "id": "2c13d83b-42a3-4af4-850f-8f4889c92d27",
   "metadata": {},
   "source": [
    "# Iker Trevino"
   ]
  },
  {
   "cell_type": "markdown",
   "id": "a33d5e5b-e793-4fbf-a00c-54ec44cddd57",
   "metadata": {},
   "source": [
    "**EDUCATION**"
   ]
  },
  {
   "cell_type": "markdown",
   "id": "7cd87156-831e-4b5c-9633-717fe8514ceb",
   "metadata": {},
   "source": [
    "**Southern Methodist University**\t---------------------Dallas, TX"
   ]
  },
  {
   "cell_type": "markdown",
   "id": "9e791cc9-2596-40ed-93bb-044f602ed904",
   "metadata": {},
   "source": [
    " *Bachelor of Science, Major: Economics with Finance Applications* ----------     May 2020 -  2024"
   ]
  },
  {
   "cell_type": "markdown",
   "id": "91574bce-fce2-4667-9e9f-ed5d65d35e05",
   "metadata": {},
   "source": [
    "*Minor: Business*\t"
   ]
  },
  {
   "cell_type": "markdown",
   "id": "66affce4-a498-4ac6-a890-4e349b39b7a2",
   "metadata": {},
   "source": [
    "GPA: 3.426 / 4.0"
   ]
  },
  {
   "cell_type": "markdown",
   "id": "1374d7b0-6dfa-4989-bd8b-b1264bc416f4",
   "metadata": {},
   "source": [
    "**EXPERIENCE**"
   ]
  },
  {
   "cell_type": "markdown",
   "id": "4dc97713-759f-4c8f-b25b-1da1e9ab60a5",
   "metadata": {},
   "source": [
    "**Hughes-Trigg Student Center**\t-------------Dallas, TX "
   ]
  },
  {
   "cell_type": "markdown",
   "id": "18a2b579-9b04-401e-933e-04a00a54561a",
   "metadata": {},
   "source": [
    "*HTSC Staff*\t                -----------------------------Jan 2021 - Present"
   ]
  },
  {
   "cell_type": "markdown",
   "id": "4551e4df-b161-4f81-909d-45676fee4895",
   "metadata": {},
   "source": [
    "\tResponsible for serving the students of SMU at the help desks inside the student center, as well as complete a variety of projects all over campus. "
   ]
  },
  {
   "cell_type": "markdown",
   "id": "04dbd188-33d2-453b-b6b2-8459642189d6",
   "metadata": {},
   "source": [
    "\tSuccessfully completed 40 projects since I began working. "
   ]
  },
  {
   "cell_type": "markdown",
   "id": "8c006180-b709-41ee-a8f9-641dea2e89a4",
   "metadata": {},
   "source": [
    "\tBeen able to use and improve my communication skills and critical thinking skills."
   ]
  },
  {
   "cell_type": "markdown",
   "id": "56cbebfa-f0c9-425d-a11a-2375bd656f13",
   "metadata": {},
   "source": [
    "**Campbell Property Management** \t-----------------------Jupiter, FL"
   ]
  },
  {
   "cell_type": "markdown",
   "id": "489efc3f-a5fe-434a-ab76-335a879dd3f9",
   "metadata": {},
   "source": [
    "*Assistant General Manager* \t-----------------------------Apr 2019 - Present"
   ]
  },
  {
   "cell_type": "markdown",
   "id": "34c7ebe2-40e0-4655-802b-8b11d1cedb38",
   "metadata": {},
   "source": [
    "\tOverlook the community’s common areas, clubhouse, and amenities. "
   ]
  },
  {
   "cell_type": "markdown",
   "id": "52b779bb-9618-40ba-8748-22c6fe0de36b",
   "metadata": {},
   "source": [
    "\tHelped during community parties, HOA meetings and holidays."
   ]
  },
  {
   "cell_type": "markdown",
   "id": "da1c5456-0524-44f5-a962-711e90e67e38",
   "metadata": {},
   "source": [
    "\tImproved interpersonal skills, communication skills and planning skills. "
   ]
  },
  {
   "cell_type": "markdown",
   "id": "0e24f1fb-1005-4255-97f2-a274c33bd3f3",
   "metadata": {},
   "source": [
    "**Celebrity Home Loans South Florida Division** \t------------Jupiter, FL"
   ]
  },
  {
   "cell_type": "markdown",
   "id": "b2e26b40-7e79-4007-8f1b-a391d1064a60",
   "metadata": {},
   "source": [
    "*Financial Associate Intern* \t------------------------------------Sep 2019 - Jan 2020"
   ]
  },
  {
   "cell_type": "markdown",
   "id": "4bda5851-b792-4dd4-a0b7-902ce796ec3e",
   "metadata": {},
   "source": [
    "\tLearned about the financial industry and its different components like stock markets, bond markets, mortgages, among others. "
   ]
  },
  {
   "cell_type": "markdown",
   "id": "7a114cbc-8527-424b-8045-080e0f32af2d",
   "metadata": {},
   "source": [
    "\tLearned how to read the different markets and learned how interest rates are chosen. "
   ]
  },
  {
   "cell_type": "markdown",
   "id": "75bbe6e8-aed2-4c71-8235-6da5eae85b0d",
   "metadata": {},
   "source": [
    "\tInsight into a job that deals with economics and finance. "
   ]
  },
  {
   "cell_type": "markdown",
   "id": "1ef97953-63f4-48db-9fa2-12c3e59263e7",
   "metadata": {},
   "source": [
    "**LEADERSHIP & COMMUNITY SERVICE**"
   ]
  },
  {
   "cell_type": "markdown",
   "id": "4c9898a4-21cc-41c0-b380-078a6fa4be69",
   "metadata": {},
   "source": [
    "**Asociación de Empresarios Mexicanos (AEM)**\t-----------------------Dallas, TX"
   ]
  },
  {
   "cell_type": "markdown",
   "id": "22cf5284-c476-48cf-9950-7b8fa34b9b5a",
   "metadata": {},
   "source": [
    "*Participant*\t----------------------------------------------------Jan 2021 - Present"
   ]
  },
  {
   "cell_type": "markdown",
   "id": "765a77f7-d32b-458c-9fbb-87a6ca2d68f8",
   "metadata": {},
   "source": [
    "\tAttend meetings with important business people, gaining knowledge and insight into the business world."
   ]
  },
  {
   "cell_type": "markdown",
   "id": "c1c9c0bd-ec05-41c6-8bca-991949df45fc",
   "metadata": {},
   "source": [
    "\tDevelop strong networking skills within the Hispanic community in the DFW area."
   ]
  },
  {
   "cell_type": "markdown",
   "id": "d9b20595-b786-4938-8f52-5cb2cd32de60",
   "metadata": {},
   "source": [
    "**ADDITIONAL SKILLS**"
   ]
  },
  {
   "cell_type": "markdown",
   "id": "d378a0c0-fa45-4468-8ca7-9719603b6643",
   "metadata": {},
   "source": [
    "Language Skills: Advanced proficiency in Spanish"
   ]
  },
  {
   "cell_type": "markdown",
   "id": "c0ead524-b01e-4b81-a058-f30121ca0a59",
   "metadata": {},
   "source": [
    "Computer Skills: Microsoft Office Specialist (Word, PowerPoint, Excel), Adobe Certified Associate Photoshop, CIW Internet Business Associate, and Python"
   ]
  },
  {
   "cell_type": "markdown",
   "id": "5c743fd9-8070-4948-b46f-efc5490b886d",
   "metadata": {},
   "source": [
    "Interests: Soccer, Health and Nutrition, Tennis, Travelling"
   ]
  }
 ],
 "metadata": {
  "kernelspec": {
   "display_name": "Python 3 (ipykernel)",
   "language": "python",
   "name": "python3"
  },
  "language_info": {
   "codemirror_mode": {
    "name": "ipython",
    "version": 3
   },
   "file_extension": ".py",
   "mimetype": "text/x-python",
   "name": "python",
   "nbconvert_exporter": "python",
   "pygments_lexer": "ipython3",
   "version": "3.9.13"
  }
 },
 "nbformat": 4,
 "nbformat_minor": 5
}
